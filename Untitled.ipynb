{
 "cells": [
  {
   "cell_type": "code",
   "execution_count": 6,
   "metadata": {},
   "outputs": [],
   "source": [
    "import data_create\n",
    "data = data_create.data_model()"
   ]
  },
  {
   "cell_type": "code",
   "execution_count": 7,
   "metadata": {},
   "outputs": [
    {
     "data": {
      "text/plain": [
       "{'locations': array([[40, 50],\n",
       "        [45, 68],\n",
       "        [45, 70],\n",
       "        [42, 66],\n",
       "        [42, 68],\n",
       "        [42, 65],\n",
       "        [40, 69],\n",
       "        [40, 66],\n",
       "        [38, 68],\n",
       "        [38, 70],\n",
       "        [35, 66]], dtype=int64),\n",
       " 'nodes': 11,\n",
       " 'depot': 0,\n",
       " 'demands': array([[ 0],\n",
       "        [10],\n",
       "        [30],\n",
       "        [10],\n",
       "        [10],\n",
       "        [10],\n",
       "        [20],\n",
       "        [20],\n",
       "        [20],\n",
       "        [10],\n",
       "        [10]], dtype=int64),\n",
       " 'mile_max': 100,\n",
       " 'vehicle_capacities': 40,\n",
       " 'vehicles': 6,\n",
       " 'time_windows': array([[   0, 1236],\n",
       "        [ 912,  967],\n",
       "        [ 825,  870],\n",
       "        [  65,  146],\n",
       "        [ 727,  782],\n",
       "        [  15,   67],\n",
       "        [ 621,  702],\n",
       "        [ 170,  225],\n",
       "        [ 255,  324],\n",
       "        [ 534,  605],\n",
       "        [ 357,  410]], dtype=int64),\n",
       " 'service_time': array([ 0, 90, 90, 90, 90, 90, 90, 90, 90, 90, 90], dtype=int64),\n",
       " 'unit_trans_cost': 10,\n",
       " 'vehicle_useCost': 300,\n",
       " 'vehicle_speed': 40,\n",
       " 'unit_ET_cost': 0.5,\n",
       " 'unit_LT_cost': 1.5,\n",
       " 'unit_loss_cost': 0.5,\n",
       " 'extreme_position': [1, 10],\n",
       " 'extreme_velocity': [-9, 9],\n",
       " 'distance': array([[ 0.        , 18.68154169, 20.61552813, 16.1245155 , 18.11077028,\n",
       "         15.13274595, 19.        , 16.        , 18.11077028, 20.09975124,\n",
       "         16.76305461],\n",
       "        [18.68154169,  0.        ,  2.        ,  3.60555128,  3.        ,\n",
       "          4.24264069,  5.09901951,  5.38516481,  7.        ,  7.28010989,\n",
       "         10.19803903],\n",
       "        [20.61552813,  2.        ,  0.        ,  5.        ,  3.60555128,\n",
       "          5.83095189,  5.09901951,  6.40312424,  7.28010989,  7.        ,\n",
       "         10.77032961],\n",
       "        [16.1245155 ,  3.60555128,  5.        ,  0.        ,  2.        ,\n",
       "          1.        ,  3.60555128,  2.        ,  4.47213595,  5.65685425,\n",
       "          7.        ],\n",
       "        [18.11077028,  3.        ,  3.60555128,  2.        ,  0.        ,\n",
       "          3.        ,  2.23606798,  2.82842712,  4.        ,  4.47213595,\n",
       "          7.28010989],\n",
       "        [15.13274595,  4.24264069,  5.83095189,  1.        ,  3.        ,\n",
       "          0.        ,  4.47213595,  2.23606798,  5.        ,  6.40312424,\n",
       "          7.07106781],\n",
       "        [19.        ,  5.09901951,  5.09901951,  3.60555128,  2.23606798,\n",
       "          4.47213595,  0.        ,  3.        ,  2.23606798,  2.23606798,\n",
       "          5.83095189],\n",
       "        [16.        ,  5.38516481,  6.40312424,  2.        ,  2.82842712,\n",
       "          2.23606798,  3.        ,  0.        ,  2.82842712,  4.47213595,\n",
       "          5.        ],\n",
       "        [18.11077028,  7.        ,  7.28010989,  4.47213595,  4.        ,\n",
       "          5.        ,  2.23606798,  2.82842712,  0.        ,  2.        ,\n",
       "          3.60555128],\n",
       "        [20.09975124,  7.28010989,  7.        ,  5.65685425,  4.47213595,\n",
       "          6.40312424,  2.23606798,  4.47213595,  2.        ,  0.        ,\n",
       "          5.        ],\n",
       "        [16.76305461, 10.19803903, 10.77032961,  7.        ,  7.28010989,\n",
       "          7.07106781,  5.83095189,  5.        ,  3.60555128,  5.        ,\n",
       "          0.        ]])}"
      ]
     },
     "execution_count": 7,
     "metadata": {},
     "output_type": "execute_result"
    }
   ],
   "source": [
    "data"
   ]
  },
  {
   "cell_type": "code",
   "execution_count": 1,
   "metadata": {},
   "outputs": [],
   "source": [
    "import numpy as np\n",
    "in_ = np.array((0,6,4,3,10,2,9,7,8,1,5))"
   ]
  },
  {
   "cell_type": "code",
   "execution_count": 3,
   "metadata": {},
   "outputs": [],
   "source": [
    "import fitness_funs"
   ]
  },
  {
   "cell_type": "code",
   "execution_count": 9,
   "metadata": {},
   "outputs": [],
   "source": [
    "fit = fitness_funs.Fitness(data, in_)"
   ]
  },
  {
   "cell_type": "code",
   "execution_count": null,
   "metadata": {},
   "outputs": [],
   "source": []
  }
 ],
 "metadata": {
  "kernelspec": {
   "display_name": "Python 3",
   "language": "python",
   "name": "python3"
  },
  "language_info": {
   "codemirror_mode": {
    "name": "ipython",
    "version": 3
   },
   "file_extension": ".py",
   "mimetype": "text/x-python",
   "name": "python",
   "nbconvert_exporter": "python",
   "pygments_lexer": "ipython3",
   "version": "3.8.5"
  }
 },
 "nbformat": 4,
 "nbformat_minor": 4
}
